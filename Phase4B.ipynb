{
 "cells": [
  {
   "cell_type": "code",
   "execution_count": 1,
   "id": "c5dc06aa",
   "metadata": {},
   "outputs": [
    {
     "name": "stdout",
     "output_type": "stream",
     "text": [
      "Collecting reportlab\n",
      "  Downloading reportlab-4.4.2-py3-none-any.whl.metadata (1.8 kB)\n",
      "Requirement already satisfied: pillow>=9.0.0 in d:\\softwares\\anaconda3\\envs\\biasbuster\\lib\\site-packages (from reportlab) (11.3.0)\n",
      "Requirement already satisfied: charset-normalizer in d:\\softwares\\anaconda3\\envs\\biasbuster\\lib\\site-packages (from reportlab) (3.4.2)\n",
      "Downloading reportlab-4.4.2-py3-none-any.whl (2.0 MB)\n",
      "   ---------------------------------------- 0.0/2.0 MB ? eta -:--:--\n",
      "   ---------------- ----------------------- 0.8/2.0 MB 7.6 MB/s eta 0:00:01\n",
      "   ---------------------------------------- 2.0/2.0 MB 7.1 MB/s eta 0:00:00\n",
      "Installing collected packages: reportlab\n",
      "Successfully installed reportlab-4.4.2\n",
      "Note: you may need to restart the kernel to use updated packages.\n"
     ]
    }
   ],
   "source": [
    "%pip install reportlab"
   ]
  },
  {
   "cell_type": "code",
   "execution_count": 2,
   "id": "bd97b9d2",
   "metadata": {},
   "outputs": [
    {
     "name": "stdout",
     "output_type": "stream",
     "text": [
      "✅ CSV report saved as feedback_report.csv\n",
      "✅ PDF report saved as feedback_report.pdf\n"
     ]
    }
   ],
   "source": [
    "# 📦 Imports\n",
    "import pandas as pd\n",
    "from tqdm import tqdm\n",
    "from reportlab.platypus import SimpleDocTemplate, Table, TableStyle, Paragraph, Spacer\n",
    "from reportlab.lib import colors\n",
    "from reportlab.lib.pagesizes import A4\n",
    "from reportlab.lib.styles import getSampleStyleSheet\n",
    "\n",
    "# ✅ Step 1: Load Phase 4A Output\n",
    "df = pd.read_csv(\"phase4a_rewrites.csv\")  # Output of Phase 4A\n",
    "df = df[df['stereotype_type'] != 'none'].copy()\n",
    "\n",
    "# ✅ Step 2: Add severity score\n",
    "severity_map = {\n",
    "    \"appearance_focus\": 2,\n",
    "    \"relationship_only\": 2,\n",
    "    \"agency_gap\": 3,\n",
    "    \"occupation_gap\": 3,\n",
    "}\n",
    "df[\"severity_score\"] = df[\"stereotype_type\"].map(severity_map).fillna(1)\n",
    "\n",
    "# ✅ Step 3: Use existing rewrites\n",
    "df[\"rewrite\"] = df[\"rewritten_line\"]\n",
    "\n",
    "# ✅ Step 4: Rank by severity\n",
    "df[\"rank\"] = df[\"severity_score\"].rank(method=\"dense\", ascending=False).astype(int)\n",
    "\n",
    "# ✅ Step 5: Save intermediate report CSV\n",
    "df.to_csv(\"feedback_report.csv\", index=False)\n",
    "print(\"✅ CSV report saved as feedback_report.csv\")\n",
    "\n",
    "# ✅ Step 6: Generate PDF Report\n",
    "# PDF Setup\n",
    "doc = SimpleDocTemplate(\"feedback_report.pdf\", pagesize=A4)\n",
    "styles = getSampleStyleSheet()\n",
    "elements = []\n",
    "\n",
    "# Title\n",
    "elements.append(Paragraph(\"🎬 Bollywood Bias Buster – Script Feedback Report\", styles[\"Title\"]))\n",
    "elements.append(Spacer(1, 12))\n",
    "\n",
    "# Table Header\n",
    "data = [[\"#\", \"Original Line\", \"Stereotype\", \"Severity\", \"Rewritten Line\"]]\n",
    "\n",
    "# Build table rows\n",
    "for idx, row in df.sort_values(\"rank\").iterrows():\n",
    "    data.append([\n",
    "        row[\"rank\"],\n",
    "        row[\"line\"],\n",
    "        row[\"stereotype_type\"],\n",
    "        int(row[\"severity_score\"]),\n",
    "        row[\"rewrite\"]\n",
    "    ])\n",
    "\n",
    "# Format Table\n",
    "table = Table(data, colWidths=[30, 160, 85, 60, 180])\n",
    "table.setStyle(TableStyle([\n",
    "    (\"BACKGROUND\", (0, 0), (-1, 0), colors.grey),\n",
    "    (\"TEXTCOLOR\", (0, 0), (-1, 0), colors.whitesmoke),\n",
    "    (\"ALIGN\", (0, 0), (-1, -1), \"LEFT\"),\n",
    "    (\"FONTNAME\", (0, 0), (-1, 0), \"Helvetica-Bold\"),\n",
    "    (\"FONTSIZE\", (0, 0), (-1, -1), 7),\n",
    "    (\"BOTTOMPADDING\", (0, 0), (-1, 0), 6),\n",
    "    (\"GRID\", (0, 0), (-1, -1), 0.25, colors.black),\n",
    "]))\n",
    "\n",
    "# Highlight severe lines\n",
    "for i in range(1, len(data)):\n",
    "    if int(data[i][3]) >= 3:\n",
    "        table.setStyle([(\"BACKGROUND\", (0, i), (-1, i), colors.lightpink)])\n",
    "\n",
    "# Add table to document\n",
    "elements.append(table)\n",
    "doc.build(elements)\n",
    "\n",
    "print(\"✅ PDF report saved as feedback_report.pdf\")\n"
   ]
  }
 ],
 "metadata": {
  "kernelspec": {
   "display_name": "biasbuster",
   "language": "python",
   "name": "python3"
  },
  "language_info": {
   "codemirror_mode": {
    "name": "ipython",
    "version": 3
   },
   "file_extension": ".py",
   "mimetype": "text/x-python",
   "name": "python",
   "nbconvert_exporter": "python",
   "pygments_lexer": "ipython3",
   "version": "3.13.5"
  }
 },
 "nbformat": 4,
 "nbformat_minor": 5
}
